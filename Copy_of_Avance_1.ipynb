{
  "nbformat": 4,
  "nbformat_minor": 0,
  "metadata": {
    "colab": {
      "provenance": [],
      "collapsed_sections": [],
      "include_colab_link": true
    },
    "kernelspec": {
      "name": "python3",
      "display_name": "Python 3"
    },
    "language_info": {
      "name": "python"
    }
  },
  "cells": [
    {
      "cell_type": "markdown",
      "metadata": {
        "id": "view-in-github",
        "colab_type": "text"
      },
      "source": [
        "<a href=\"https://colab.research.google.com/github/PosgradoMNA/actividades-del-projecto-cad_equipo113/blob/main/Copy_of_Avance_1.ipynb\" target=\"_parent\"><img src=\"https://colab.research.google.com/assets/colab-badge.svg\" alt=\"Open In Colab\"/></a>"
      ]
    },
    {
      "cell_type": "markdown",
      "source": [
        "**Ciencia y analítica de datos**\n",
        "\n",
        "------------------------------\n",
        "Jessica Paola Pulido Vasquez\n",
        "**A01793650**\n",
        "\n",
        "Joan Sebastian Jimenez Chacón\n",
        "**A01793970**\n",
        "\n",
        "------------------------------\n",
        "Proyecto final - Avance 1\n",
        "\n",
        "1. El nombre que caracteriza el conjunto de datos: **World Economic Data**. Set de datos que contiene diferentes indicadores acerca de la economía mundial.\n",
        "\n",
        "2. La organización que lo generó: www.worlddata.info/\n",
        "\n",
        "3. Incluya un enlace de Internet donde se puedan descargar el base de datos en línea: https://www.kaggle.com/datasets/madhurpant/world-economic-data?select=unemployment.csv\n",
        "\n",
        "4. Describe el conjunto de datos. ¿Qué datos contiene?\n",
        "- Corrupción\n",
        "- Costo de vida\n",
        "- Paises más ricos\n",
        "- Turismo\n",
        "- Desempleo\n",
        "\n",
        "5. ¿Cuáles son algunas de las preguntas de investigación que podría responder con estos datos? Enumere al menos OCHO (no responda las preguntas).\n",
        "\n",
        "\n",
        "\n",
        "*   Países emergentes y en desarrollo.\n",
        "*   Paises atractivos para fundar o tener empresa.\n",
        "*   Países con vulnerabilidad a crisis política por mal manejo ecónomico.\n",
        "*   Tasa de desempleo formal e informal en los diferentes países.\n",
        "*   Relación entre desempleo y turismo.\n",
        "*   Relación entre costo de vida y países ricos.\n",
        "*   Top 5 países más ricos.\n",
        "* Comparación del poder adquisitivo de una persona promedio en los diferentes países.\n",
        "\n",
        "6. ¿Qué actor (empresa, sector de la sociedad, organismo descentralizado, gobierno, etc.) estaría interesado en las preguntas mencionadas que identificó?\n",
        "\n",
        "* Gobiernos (área de planeación)\n",
        "* Organizaciones sin animo de lucro\n",
        "* Investigadores\n",
        "* Empresas privadas\n",
        "\n",
        "\n",
        "\n",
        "\n",
        "\n",
        "\n",
        "\n",
        "\n",
        "\n"
      ],
      "metadata": {
        "id": "oI0Nfxms6XDT"
      }
    }
  ]
}